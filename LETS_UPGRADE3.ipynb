{
  "nbformat": 4,
  "nbformat_minor": 0,
  "metadata": {
    "colab": {
      "name": "LETS_UPGRADE3.ipynb",
      "provenance": [],
      "authorship_tag": "ABX9TyMq2e6hq4xkXpKa8agSWY1l",
      "include_colab_link": true
    },
    "kernelspec": {
      "name": "python3",
      "display_name": "Python 3"
    }
  },
  "cells": [
    {
      "cell_type": "markdown",
      "metadata": {
        "id": "view-in-github",
        "colab_type": "text"
      },
      "source": [
        "<a href=\"https://colab.research.google.com/github/Nithya-Satheesh/LETS_UPGRADE_ASSIGNMENT3/blob/main/LETS_UPGRADE3.ipynb\" target=\"_parent\"><img src=\"https://colab.research.google.com/assets/colab-badge.svg\" alt=\"Open In Colab\"/></a>"
      ]
    },
    {
      "cell_type": "code",
      "metadata": {
        "id": "W86n9ajVWMHo",
        "outputId": "f87eb8a6-9d09-4d0d-afd9-ab7cf065fb8d",
        "colab": {
          "base_uri": "https://localhost:8080/"
        }
      },
      "source": [
        "#Question 1\n",
        "import numpy as np\n",
        "np.arange(2,50,3)"
      ],
      "execution_count": null,
      "outputs": [
        {
          "output_type": "execute_result",
          "data": {
            "text/plain": [
              "array([ 2,  5,  8, 11, 14, 17, 20, 23, 26, 29, 32, 35, 38, 41, 44, 47])"
            ]
          },
          "metadata": {
            "tags": []
          },
          "execution_count": 1
        }
      ]
    },
    {
      "cell_type": "code",
      "metadata": {
        "id": "O7u5o_tvY1YH",
        "outputId": "af61f66a-493f-428d-fed8-c9439d85a9c1",
        "colab": {
          "base_uri": "https://localhost:8080/"
        }
      },
      "source": [
        "#Question 2\n",
        "import numpy as np\n",
        "list1 = []\n",
        "list2 = []\n",
        "for i in range(5):\n",
        " ele = int(input(\"Enter a number for list1: \"))\n",
        " list1.append(ele)\n",
        "for i in range(5):\n",
        " ele = int(input(\"Enter a number for list2: \"))\n",
        " list2.append(ele)\n",
        "\n",
        "arr1 = np.array(list1)\n",
        "arr2 = np.array(list2)\n",
        "\n",
        "arr = np.concatenate((arr1,arr2))\n",
        "print(\"Concatenated array: \",arr)\n",
        "\n",
        "sort = np.sort(arr)\n",
        "print(\"Sorted: \",sort)\n"
      ],
      "execution_count": null,
      "outputs": [
        {
          "output_type": "stream",
          "text": [
            "Enter a number for list1: 12\n",
            "Enter a number for list1: 43\n",
            "Enter a number for list1: 77\n",
            "Enter a number for list1: 98\n",
            "Enter a number for list1: 7\n",
            "Enter a number for list2: 4\n",
            "Enter a number for list2: 54\n",
            "Enter a number for list2: 43\n",
            "Enter a number for list2: 22\n",
            "Enter a number for list2: 66\n",
            "Concatenated array:  [12 43 77 98  7  4 54 43 22 66]\n",
            "Sorted:  [ 4  7 12 22 43 43 54 66 77 98]\n"
          ],
          "name": "stdout"
        }
      ]
    },
    {
      "cell_type": "markdown",
      "metadata": {
        "id": "_T5fZJoEoa1r"
      },
      "source": [
        "**Snippets**\n",
        "\n",
        "Dimension \n",
        "\n",
        "Array_Name.ndim\n",
        "\n",
        "Size\n",
        "\n",
        "Array_Name.size"
      ]
    },
    {
      "cell_type": "code",
      "metadata": {
        "id": "Y_KhgMljlgwy",
        "outputId": "47254c0c-7da5-4a60-b415-399585039458",
        "colab": {
          "base_uri": "https://localhost:8080/"
        }
      },
      "source": [
        "#Question 3\n",
        "import numpy as np\n",
        "arr = np.array([[1,4,5],[22,4,3]])\n",
        "Dim = arr.ndim\n",
        "print(\"Dimension of the array: \",Dim)\n",
        "Size = arr.size\n",
        "print(\"size of array: \",Size)"
      ],
      "execution_count": null,
      "outputs": [
        {
          "output_type": "stream",
          "text": [
            "Dimension of the array:  2\n",
            "size of array:  6\n"
          ],
          "name": "stdout"
        }
      ]
    },
    {
      "cell_type": "markdown",
      "metadata": {
        "id": "quw-Dcoho74U"
      },
      "source": [
        "newaxis snippet:\n",
        "\n",
        "ArrayName[numpy.newaxis, :] // row major\n",
        "\n",
        "ArrayName[:, numpy.newaxis] // column major"
      ]
    },
    {
      "cell_type": "code",
      "metadata": {
        "id": "LndeNPmenjS-",
        "outputId": "28ff1fb1-ada3-4b8f-e3f3-bb29d5eb16dd",
        "colab": {
          "base_uri": "https://localhost:8080/"
        }
      },
      "source": [
        "#Question 4\n",
        "import numpy as np\n",
        "a = np.array([1,3,6,8,4,9])\n",
        "print(a.shape)\n",
        "row_vector = a[np.newaxis, :]\n",
        "col_vector = a[:, np.newaxis]\n",
        "print(row_vector.shape)\n",
        "print(col_vector.shape)"
      ],
      "execution_count": 6,
      "outputs": [
        {
          "output_type": "stream",
          "text": [
            "(6,)\n",
            "(1, 6)\n",
            "(6, 1)\n"
          ],
          "name": "stdout"
        }
      ]
    },
    {
      "cell_type": "code",
      "metadata": {
        "id": "KXi6rpORn3SD",
        "outputId": "50be9bb1-6fb9-4980-f796-41af608f9b7e",
        "colab": {
          "base_uri": "https://localhost:8080/"
        }
      },
      "source": [
        "#Question 5\n",
        "import numpy as np\n",
        "a1 = [23,32,1,22,35]\n",
        "a2 = [73,43,23,55,66]\n",
        "s1 = np.square(a1)\n",
        "s2 = np.square(a2)\n",
        "\n",
        "print(\"Vertical stack: \", np.vstack((s1,s2)))\n",
        "print(\"Horizontal stack: \",np.hstack((s1,s2)))"
      ],
      "execution_count": 10,
      "outputs": [
        {
          "output_type": "stream",
          "text": [
            "Vertical stack:  [[ 529 1024    1  484 1225]\n",
            " [5329 1849  529 3025 4356]]\n",
            "Horizontal stack:  [ 529 1024    1  484 1225 5329 1849  529 3025 4356]\n"
          ],
          "name": "stdout"
        }
      ]
    },
    {
      "cell_type": "code",
      "metadata": {
        "id": "CwOx-52hqt1r",
        "outputId": "3a813dc4-b3c1-4c18-bdb6-d6a71c82181a",
        "colab": {
          "base_uri": "https://localhost:8080/"
        }
      },
      "source": [
        "#Question 6\n",
        "import numpy as np\n",
        "\n",
        "a1 = np.array([1,3,4,2,5,1,2,3,9])\n",
        "(unique, counts) = np.unique(a1, return_counts=True)\n",
        "\n",
        "a = np.asarray((unique,counts)).T\n",
        "print(a)"
      ],
      "execution_count": 12,
      "outputs": [
        {
          "output_type": "stream",
          "text": [
            "[[1 2]\n",
            " [2 2]\n",
            " [3 2]\n",
            " [4 1]\n",
            " [5 1]\n",
            " [9 1]]\n"
          ],
          "name": "stdout"
        }
      ]
    }
  ]
}